{
 "cells": [
  {
   "cell_type": "markdown",
   "metadata": {},
   "source": [
    "# read data"
   ]
  },
  {
   "cell_type": "code",
   "execution_count": 1,
   "metadata": {},
   "outputs": [],
   "source": [
    "import pandas as pd"
   ]
  },
  {
   "cell_type": "code",
   "execution_count": 2,
   "metadata": {},
   "outputs": [],
   "source": [
    "from scipy.stats import norm"
   ]
  },
  {
   "cell_type": "code",
   "execution_count": 3,
   "metadata": {},
   "outputs": [],
   "source": [
    "df = pd.read_csv(\"AB_test_data.csv\")"
   ]
  },
  {
   "cell_type": "code",
   "execution_count": 4,
   "metadata": {
    "scrolled": true
   },
   "outputs": [
    {
     "data": {
      "text/html": [
       "<div>\n",
       "<style scoped>\n",
       "    .dataframe tbody tr th:only-of-type {\n",
       "        vertical-align: middle;\n",
       "    }\n",
       "\n",
       "    .dataframe tbody tr th {\n",
       "        vertical-align: top;\n",
       "    }\n",
       "\n",
       "    .dataframe thead th {\n",
       "        text-align: right;\n",
       "    }\n",
       "</style>\n",
       "<table border=\"1\" class=\"dataframe\">\n",
       "  <thead>\n",
       "    <tr style=\"text-align: right;\">\n",
       "      <th></th>\n",
       "      <th>Variant</th>\n",
       "      <th>purchase_TF</th>\n",
       "      <th>date</th>\n",
       "      <th>id</th>\n",
       "    </tr>\n",
       "  </thead>\n",
       "  <tbody>\n",
       "    <tr>\n",
       "      <th>0</th>\n",
       "      <td>A</td>\n",
       "      <td>False</td>\n",
       "      <td>2019-12-26</td>\n",
       "      <td>0x6f9421</td>\n",
       "    </tr>\n",
       "    <tr>\n",
       "      <th>1</th>\n",
       "      <td>A</td>\n",
       "      <td>False</td>\n",
       "      <td>2019-08-16</td>\n",
       "      <td>0x59d442</td>\n",
       "    </tr>\n",
       "    <tr>\n",
       "      <th>2</th>\n",
       "      <td>A</td>\n",
       "      <td>True</td>\n",
       "      <td>2019-03-18</td>\n",
       "      <td>0x6db8f8</td>\n",
       "    </tr>\n",
       "    <tr>\n",
       "      <th>3</th>\n",
       "      <td>A</td>\n",
       "      <td>False</td>\n",
       "      <td>2019-02-13</td>\n",
       "      <td>0x68245d</td>\n",
       "    </tr>\n",
       "    <tr>\n",
       "      <th>4</th>\n",
       "      <td>A</td>\n",
       "      <td>False</td>\n",
       "      <td>2019-09-28</td>\n",
       "      <td>0x28566e</td>\n",
       "    </tr>\n",
       "  </tbody>\n",
       "</table>\n",
       "</div>"
      ],
      "text/plain": [
       "  Variant  purchase_TF        date        id\n",
       "0       A        False  2019-12-26  0x6f9421\n",
       "1       A        False  2019-08-16  0x59d442\n",
       "2       A         True  2019-03-18  0x6db8f8\n",
       "3       A        False  2019-02-13  0x68245d\n",
       "4       A        False  2019-09-28  0x28566e"
      ]
     },
     "execution_count": 4,
     "metadata": {},
     "output_type": "execute_result"
    }
   ],
   "source": [
    "df.head()"
   ]
  },
  {
   "cell_type": "markdown",
   "metadata": {},
   "source": [
    "# alpha, power  "
   ]
  },
  {
   "cell_type": "code",
   "execution_count": 5,
   "metadata": {},
   "outputs": [
    {
     "data": {
      "text/plain": [
       "1.6448536269514722"
      ]
     },
     "execution_count": 5,
     "metadata": {},
     "output_type": "execute_result"
    }
   ],
   "source": [
    "alpha = 0.05\n",
    "power = 0.8\n",
    "norm.ppf(1-alpha)"
   ]
  },
  {
   "cell_type": "code",
   "execution_count": 6,
   "metadata": {
    "scrolled": true
   },
   "outputs": [
    {
     "data": {
      "text/plain": [
       "1.959963984540054"
      ]
     },
     "execution_count": 6,
     "metadata": {},
     "output_type": "execute_result"
    }
   ],
   "source": [
    "norm.ppf(1-alpha/2)"
   ]
  },
  {
   "cell_type": "code",
   "execution_count": 7,
   "metadata": {
    "scrolled": true
   },
   "outputs": [
    {
     "data": {
      "text/plain": [
       "-0.8416212335729143"
      ]
     },
     "execution_count": 7,
     "metadata": {},
     "output_type": "execute_result"
    }
   ],
   "source": [
    "norm.ppf(1-power)"
   ]
  },
  {
   "cell_type": "code",
   "execution_count": 8,
   "metadata": {},
   "outputs": [
    {
     "data": {
      "text/plain": [
       "False    46416\n",
       "True      8584\n",
       "Name: purchase_TF, dtype: int64"
      ]
     },
     "execution_count": 8,
     "metadata": {},
     "output_type": "execute_result"
    }
   ],
   "source": [
    "df.purchase_TF.value_counts()"
   ]
  },
  {
   "cell_type": "markdown",
   "metadata": {},
   "source": [
    "# Overview data"
   ]
  },
  {
   "cell_type": "code",
   "execution_count": 9,
   "metadata": {
    "scrolled": true
   },
   "outputs": [
    {
     "data": {
      "text/plain": [
       "50000"
      ]
     },
     "execution_count": 9,
     "metadata": {},
     "output_type": "execute_result"
    }
   ],
   "source": [
    "df[df.Variant == 'A'].purchase_TF.count()"
   ]
  },
  {
   "cell_type": "code",
   "execution_count": 10,
   "metadata": {
    "scrolled": true
   },
   "outputs": [
    {
     "data": {
      "text/plain": [
       "5000"
      ]
     },
     "execution_count": 10,
     "metadata": {},
     "output_type": "execute_result"
    }
   ],
   "source": [
    "df[df.Variant == 'B'].purchase_TF.count()"
   ]
  },
  {
   "cell_type": "code",
   "execution_count": 11,
   "metadata": {
    "scrolled": true
   },
   "outputs": [
    {
     "data": {
      "text/plain": [
       "False    42397\n",
       "True      7603\n",
       "Name: purchase_TF, dtype: int64"
      ]
     },
     "execution_count": 11,
     "metadata": {},
     "output_type": "execute_result"
    }
   ],
   "source": [
    "df[df.Variant == 'A'].purchase_TF.value_counts()"
   ]
  },
  {
   "cell_type": "code",
   "execution_count": 12,
   "metadata": {
    "scrolled": true
   },
   "outputs": [
    {
     "data": {
      "text/plain": [
       "False    4019\n",
       "True      981\n",
       "Name: purchase_TF, dtype: int64"
      ]
     },
     "execution_count": 12,
     "metadata": {},
     "output_type": "execute_result"
    }
   ],
   "source": [
    "df[df.Variant == 'B'].purchase_TF.value_counts()"
   ]
  },
  {
   "cell_type": "markdown",
   "metadata": {},
   "source": [
    "# Calculating the optimal sample size"
   ]
  },
  {
   "cell_type": "code",
   "execution_count": 13,
   "metadata": {},
   "outputs": [],
   "source": [
    "from numpy import sqrt"
   ]
  },
  {
   "cell_type": "code",
   "execution_count": 14,
   "metadata": {},
   "outputs": [],
   "source": [
    "alpha = 0.05\n",
    "power = 0.8\n",
    "t_alpha_d2 = norm.ppf(1-alpha/2)\n",
    "t_alpha_d2\n",
    "t_beta = .84162\n",
    "p0 = df[df.Variant == 'A'].purchase_TF.sum() / 50000\n",
    "p1 = df[df.Variant == 'B'].purchase_TF.sum() / 5000\n",
    "p_bar = (p0  + p1)/2\n",
    "delta = p1  - p0"
   ]
  },
  {
   "cell_type": "code",
   "execution_count": 15,
   "metadata": {},
   "outputs": [
    {
     "data": {
      "text/plain": [
       "1.959963984540054"
      ]
     },
     "execution_count": 15,
     "metadata": {},
     "output_type": "execute_result"
    }
   ],
   "source": [
    "t_alpha_d2"
   ]
  },
  {
   "cell_type": "code",
   "execution_count": 16,
   "metadata": {
    "scrolled": false
   },
   "outputs": [
    {
     "data": {
      "text/plain": [
       "1157.485452132069"
      ]
     },
     "execution_count": 16,
     "metadata": {},
     "output_type": "execute_result"
    }
   ],
   "source": [
    "((t_alpha_d2*sqrt(2*p_bar*(1-p_bar)))+t_beta*sqrt((p0*(1-p0))+(p1*(1-p1))))**2/delta/delta"
   ]
  },
  {
   "cell_type": "markdown",
   "metadata": {},
   "source": [
    "# z_score "
   ]
  },
  {
   "cell_type": "code",
   "execution_count": 17,
   "metadata": {},
   "outputs": [],
   "source": [
    "df_A= df[df.Variant=='A']"
   ]
  },
  {
   "cell_type": "code",
   "execution_count": 18,
   "metadata": {},
   "outputs": [],
   "source": [
    "df_B = df[df.Variant=='B']"
   ]
  },
  {
   "cell_type": "code",
   "execution_count": 19,
   "metadata": {},
   "outputs": [
    {
     "data": {
      "text/plain": [
       "8.692151285198767"
      ]
     },
     "execution_count": 19,
     "metadata": {},
     "output_type": "execute_result"
    }
   ],
   "source": [
    "z = (0.1962-0.15206) / sqrt(0.15206*(1-0.15206)/5000)\n",
    "z"
   ]
  },
  {
   "cell_type": "markdown",
   "metadata": {},
   "source": [
    "# Calculating z_score for 10 trials"
   ]
  },
  {
   "cell_type": "code",
   "execution_count": 20,
   "metadata": {},
   "outputs": [],
   "source": [
    "def z_score(data,number,p=0.15206):\n",
    "    \n",
    "    variant_B = data\n",
    "    \n",
    "    variant_B_sampled = variant_B.sample(n = number)\n",
    "    \n",
    "    p_sample = variant_B_sampled.purchase_TF.sum() / number\n",
    "\n",
    "    z_score = (p_sample-p) / sqrt(p*(1-p)/number)\n",
    "\n",
    "    return z_score"
   ]
  },
  {
   "cell_type": "code",
   "execution_count": 21,
   "metadata": {
    "scrolled": true
   },
   "outputs": [
    {
     "data": {
      "text/plain": [
       "5.572847978502808"
      ]
     },
     "execution_count": 21,
     "metadata": {},
     "output_type": "execute_result"
    }
   ],
   "source": [
    "z_score(df_B,1157,p=0.15206)"
   ]
  },
  {
   "cell_type": "code",
   "execution_count": 22,
   "metadata": {},
   "outputs": [
    {
     "data": {
      "text/plain": [
       "2.625402591558127"
      ]
     },
     "execution_count": 22,
     "metadata": {},
     "output_type": "execute_result"
    }
   ],
   "source": [
    "z_score(df_B,1157,p=0.15206)"
   ]
  },
  {
   "cell_type": "code",
   "execution_count": 23,
   "metadata": {},
   "outputs": [
    {
     "data": {
      "text/plain": [
       "4.508492699883895"
      ]
     },
     "execution_count": 23,
     "metadata": {},
     "output_type": "execute_result"
    }
   ],
   "source": [
    "z_score(df_B,1157,p=0.15206)"
   ]
  },
  {
   "cell_type": "code",
   "execution_count": 24,
   "metadata": {},
   "outputs": [
    {
     "data": {
      "text/plain": [
       "5.245354046620067"
      ]
     },
     "execution_count": 24,
     "metadata": {},
     "output_type": "execute_result"
    }
   ],
   "source": [
    "z_score(df_B,1157,p=0.15206)"
   ]
  },
  {
   "cell_type": "code",
   "execution_count": 25,
   "metadata": {},
   "outputs": [
    {
     "data": {
      "text/plain": [
       "1.970414727792642"
      ]
     },
     "execution_count": 25,
     "metadata": {},
     "output_type": "execute_result"
    }
   ],
   "source": [
    "z_score(df_B,1157,p=0.15206)"
   ]
  },
  {
   "cell_type": "code",
   "execution_count": 26,
   "metadata": {},
   "outputs": [
    {
     "data": {
      "text/plain": [
       "4.4266192169132115"
      ]
     },
     "execution_count": 26,
     "metadata": {},
     "output_type": "execute_result"
    }
   ],
   "source": [
    "z_score(df_B,1157,p=0.15206)"
   ]
  },
  {
   "cell_type": "code",
   "execution_count": 27,
   "metadata": {},
   "outputs": [
    {
     "data": {
      "text/plain": [
       "4.099125285030468"
      ]
     },
     "execution_count": 27,
     "metadata": {},
     "output_type": "execute_result"
    }
   ],
   "source": [
    "z_score(df_B,1157,p=0.15206)"
   ]
  },
  {
   "cell_type": "code",
   "execution_count": 28,
   "metadata": {},
   "outputs": [
    {
     "data": {
      "text/plain": [
       "5.654721461473494"
      ]
     },
     "execution_count": 28,
     "metadata": {},
     "output_type": "execute_result"
    }
   ],
   "source": [
    "z_score(df_B,1157,p=0.15206)"
   ]
  },
  {
   "cell_type": "code",
   "execution_count": 29,
   "metadata": {},
   "outputs": [
    {
     "data": {
      "text/plain": [
       "5.16348056364938"
      ]
     },
     "execution_count": 29,
     "metadata": {},
     "output_type": "execute_result"
    }
   ],
   "source": [
    "z_score(df_B,1157,p=0.15206)"
   ]
  },
  {
   "cell_type": "code",
   "execution_count": 30,
   "metadata": {},
   "outputs": [
    {
     "data": {
      "text/plain": [
       "3.935378319089097"
      ]
     },
     "execution_count": 30,
     "metadata": {},
     "output_type": "execute_result"
    }
   ],
   "source": [
    "z_score(df_B,1157,p=0.15206)"
   ]
  },
  {
   "cell_type": "markdown",
   "metadata": {},
   "source": [
    "# Sequential probability ratio test (SPRT)"
   ]
  },
  {
   "cell_type": "code",
   "execution_count": 31,
   "metadata": {},
   "outputs": [
    {
     "data": {
      "text/plain": [
       "'\\np(xi=1)= 0.15206 under H0\\np(xi=1)= 0.1962 under H1\\na=.05\\nb=.2\\n'"
      ]
     },
     "execution_count": 31,
     "metadata": {},
     "output_type": "execute_result"
    }
   ],
   "source": [
    "\"\"\"\n",
    "p(xi=1)= 0.15206 under H0\n",
    "p(xi=1)= 0.1962 under H1\n",
    "a=.05\n",
    "b=.2\n",
    "\"\"\""
   ]
  },
  {
   "cell_type": "code",
   "execution_count": 32,
   "metadata": {},
   "outputs": [
    {
     "data": {
      "text/plain": [
       "-1.6094379124341003"
      ]
     },
     "execution_count": 32,
     "metadata": {},
     "output_type": "execute_result"
    }
   ],
   "source": [
    "import numpy as np\n",
    "np.log(.2)"
   ]
  },
  {
   "cell_type": "code",
   "execution_count": 33,
   "metadata": {},
   "outputs": [],
   "source": [
    "def test(data,number,p_ho,p_h1):\n",
    "    \n",
    "    variant_B = data\n",
    "    \n",
    "    variant_B_sampled = variant_B.sample(n = number)\n",
    "\n",
    "    total_sum=0\n",
    "    i=0\n",
    "    while -1.6 < total_sum <  2.99:     \n",
    "        if variant_B_sampled.purchase_TF.iloc[i] == True:\n",
    "            log = np.log(p_h1/p_ho)\n",
    "        elif variant_B_sampled.purchase_TF.iloc[i] == False:\n",
    "            log = np.log((1-p_h1)/(1-p_ho))\n",
    "        total_sum = total_sum + log\n",
    "        i = i+1\n",
    "    return i, total_sum"
   ]
  },
  {
   "cell_type": "code",
   "execution_count": 34,
   "metadata": {
    "scrolled": false
   },
   "outputs": [
    {
     "data": {
      "text/plain": [
       "(438, 3.100198002544559)"
      ]
     },
     "execution_count": 34,
     "metadata": {},
     "output_type": "execute_result"
    }
   ],
   "source": [
    "test(df_B,1158,p_ho=0.15206,p_h1=0.1962)"
   ]
  },
  {
   "cell_type": "code",
   "execution_count": 35,
   "metadata": {},
   "outputs": [
    {
     "data": {
      "text/plain": [
       "(275, 3.181154252416746)"
      ]
     },
     "execution_count": 35,
     "metadata": {},
     "output_type": "execute_result"
    }
   ],
   "source": [
    "test(df_B,1158,p_ho=0.15206,p_h1=0.1962)"
   ]
  },
  {
   "cell_type": "code",
   "execution_count": 36,
   "metadata": {},
   "outputs": [
    {
     "data": {
      "text/plain": [
       "(59, -1.6125105774009008)"
      ]
     },
     "execution_count": 36,
     "metadata": {},
     "output_type": "execute_result"
    }
   ],
   "source": [
    "test(df_B,1158,p_ho=0.15206,p_h1=0.1962)"
   ]
  },
  {
   "cell_type": "code",
   "execution_count": 37,
   "metadata": {},
   "outputs": [
    {
     "data": {
      "text/plain": [
       "(485, 3.054156475485399)"
      ]
     },
     "execution_count": 37,
     "metadata": {},
     "output_type": "execute_result"
    }
   ],
   "source": [
    "test(df_B,1158,p_ho=0.15206,p_h1=0.1962)"
   ]
  },
  {
   "cell_type": "code",
   "execution_count": 38,
   "metadata": {},
   "outputs": [
    {
     "data": {
      "text/plain": [
       "(248, 3.082964140006827)"
      ]
     },
     "execution_count": 38,
     "metadata": {},
     "output_type": "execute_result"
    }
   ],
   "source": [
    "test(df_B,1158,p_ho=0.15206,p_h1=0.1962)"
   ]
  },
  {
   "cell_type": "code",
   "execution_count": 39,
   "metadata": {},
   "outputs": [
    {
     "data": {
      "text/plain": [
       "(392, 3.092780133047136)"
      ]
     },
     "execution_count": 39,
     "metadata": {},
     "output_type": "execute_result"
    }
   ],
   "source": [
    "test(df_B,1158,p_ho=0.15206,p_h1=0.1962)"
   ]
  },
  {
   "cell_type": "code",
   "execution_count": 40,
   "metadata": {},
   "outputs": [
    {
     "data": {
      "text/plain": [
       "(88, -1.6212392581041568)"
      ]
     },
     "execution_count": 40,
     "metadata": {},
     "output_type": "execute_result"
    }
   ],
   "source": [
    "test(df_B,1158,p_ho=0.15206,p_h1=0.1962)"
   ]
  },
  {
   "cell_type": "code",
   "execution_count": 41,
   "metadata": {},
   "outputs": [
    {
     "data": {
      "text/plain": [
       "(155, 3.1215877975685626)"
      ]
     },
     "execution_count": 41,
     "metadata": {},
     "output_type": "execute_result"
    }
   ],
   "source": [
    "test(df_B,1158,p_ho=0.15206,p_h1=0.1962)"
   ]
  },
  {
   "cell_type": "code",
   "execution_count": 42,
   "metadata": {},
   "outputs": [
    {
     "data": {
      "text/plain": [
       "(346, 3.0853622635497095)"
      ]
     },
     "execution_count": 42,
     "metadata": {},
     "output_type": "execute_result"
    }
   ],
   "source": [
    "test(df_B,1158,p_ho=0.15206,p_h1=0.1962)"
   ]
  },
  {
   "cell_type": "code",
   "execution_count": 43,
   "metadata": {},
   "outputs": [
    {
     "data": {
      "text/plain": [
       "(116, 3.0482729160625786)"
      ]
     },
     "execution_count": 43,
     "metadata": {},
     "output_type": "execute_result"
    }
   ],
   "source": [
    "test(df_B,1158,p_ho=0.15206,p_h1=0.1962)"
   ]
  },
  {
   "cell_type": "code",
   "execution_count": 45,
   "metadata": {},
   "outputs": [
    {
     "name": "stdout",
     "output_type": "stream",
     "text": [
      "0 -0.05345939655658821\n",
      "1 -0.10691879311317642\n",
      "2 -0.16037818966976464\n",
      "3 -0.21383758622635285\n",
      "4 0.04102178110461929\n",
      "5 0.29588114843559143\n",
      "6 0.24242175187900322\n",
      "7 0.188962355322415\n",
      "8 0.1355029587658268\n",
      "9 0.08204356220923859\n",
      "10 0.028584165652650373\n",
      "11 0.2834435329836225\n",
      "12 0.2299841364270343\n",
      "13 0.1765247398704461\n",
      "14 0.12306534331385788\n",
      "15 0.06960594675726967\n",
      "16 0.016146550200681453\n",
      "17 -0.03731284635590676\n",
      "18 -0.09077224291249497\n",
      "19 -0.14423163946908318\n",
      "20 -0.1976910360256714\n",
      "21 -0.2511504325822596\n",
      "22 -0.3046098291388478\n",
      "23 -0.35806922569543603\n",
      "24 -0.41152862225202425\n",
      "25 -0.1566692549210521\n",
      "26 -0.21012865147764032\n",
      "27 -0.26358804803422853\n",
      "28 -0.31704744459081674\n",
      "29 -0.37050684114740495\n",
      "30 -0.42396623770399317\n",
      "31 -0.4774256342605814\n",
      "32 -0.5308850308171695\n",
      "33 -0.5843444273737577\n",
      "34 -0.6378038239303458\n",
      "35 -0.691263220486934\n",
      "36 -0.7447226170435222\n",
      "37 -0.7981820136001103\n",
      "38 -0.8516414101566985\n",
      "39 -0.9051008067132866\n",
      "40 -0.9585602032698748\n",
      "41 -1.012019599826463\n",
      "42 -1.065478996383051\n",
      "43 -1.1189383929396393\n",
      "44 -1.1723977894962274\n",
      "45 -1.2258571860528156\n",
      "46 -0.9709978187218434\n",
      "47 -0.7161384513908713\n",
      "48 -0.7695978479474594\n",
      "49 -0.8230572445040476\n",
      "50 -0.8765166410606358\n",
      "51 -0.9299760376172239\n",
      "52 -0.6751166702862518\n",
      "53 -0.42025730295527963\n",
      "54 -0.47371669951186784\n",
      "55 -0.5271760960684561\n",
      "56 -0.5806354926250443\n",
      "57 -0.6340948891816325\n",
      "58 -0.6875542857382206\n",
      "59 -0.7410136822948088\n",
      "60 -0.794473078851397\n",
      "61 -0.5396137115204248\n",
      "62 -0.5930731080770131\n",
      "63 -0.33821374074604094\n",
      "64 -0.39167313730262915\n",
      "65 -0.44513253385921736\n",
      "66 -0.4985919304158056\n",
      "67 -0.24373256308483343\n",
      "68 -0.29719195964142164\n",
      "69 -0.0423325923104495\n",
      "70 0.21252677502052264\n",
      "71 0.4673861423514948\n",
      "72 0.41392674579490657\n",
      "73 0.6687861131258788\n",
      "74 0.6153267165692906\n",
      "75 0.5618673200127025\n",
      "76 0.5084079234561143\n",
      "77 0.4549485268995261\n",
      "78 0.7098078942304982\n",
      "79 0.65634849767391\n",
      "80 0.6028891011173219\n",
      "81 0.5494297045607337\n",
      "82 0.4959703080041455\n",
      "83 0.4425109114475573\n",
      "84 0.6973702787785294\n",
      "85 0.6439108822219413\n",
      "86 0.8987702495529134\n",
      "87 0.8453108529963251\n",
      "88 0.791851456439737\n",
      "89 0.7383920598831488\n",
      "90 0.6849326633265607\n",
      "91 0.6314732667699725\n",
      "92 0.5780138702133844\n",
      "93 0.8328732375443565\n",
      "94 0.7794138409877682\n",
      "95 0.7259544444311801\n",
      "96 0.6724950478745919\n",
      "97 0.6190356513180038\n",
      "98 0.5655762547614156\n",
      "99 0.5121168582048274\n",
      "100 0.7669762255357996\n",
      "101 0.7135168289792113\n",
      "102 0.9683761963101835\n",
      "103 0.9149167997535952\n",
      "104 0.861457403197007\n",
      "105 0.8079980066404189\n",
      "106 0.7545386100838307\n",
      "107 0.7010792135272426\n",
      "108 0.9559385808582147\n",
      "109 0.9024791843016264\n",
      "110 0.8490197877450383\n",
      "111 0.7955603911884501\n",
      "112 0.742100994631862\n",
      "113 0.6886415980752738\n",
      "114 0.6351822015186857\n",
      "115 0.5817228049620975\n",
      "116 0.5282634084055093\n",
      "117 0.7831227757364815\n",
      "118 0.7296633791798932\n",
      "119 0.676203982623305\n",
      "120 0.6227445860667169\n",
      "121 0.5692851895101287\n",
      "122 0.5158257929535406\n",
      "123 0.4623663963969524\n",
      "124 0.40890699984036416\n",
      "125 0.35544760328377595\n",
      "126 0.6103069706147481\n",
      "127 0.55684757405816\n",
      "128 0.5033881775015718\n",
      "129 0.4499287809449836\n",
      "130 0.3964693843883954\n",
      "131 0.3430099878318072\n",
      "132 0.5978693551627794\n",
      "133 0.5444099586061912\n",
      "134 0.490950562049603\n",
      "135 0.7458099293805751\n",
      "136 0.692350532823987\n",
      "137 0.6388911362673988\n",
      "138 0.5854317397108106\n",
      "139 0.5319723431542225\n",
      "140 0.47851294659763427\n",
      "141 0.7333723139286064\n",
      "142 0.6799129173720182\n",
      "143 0.62645352081543\n",
      "144 0.5729941242588419\n",
      "145 0.5195347277022537\n",
      "146 0.4660753311456655\n",
      "147 0.4126159345890773\n",
      "148 0.3591565380324891\n",
      "149 0.3056971414759009\n",
      "150 0.560556508806873\n",
      "151 0.5070971122502848\n",
      "152 0.45363771569369654\n",
      "153 0.40017831913710833\n",
      "154 0.3467189225805201\n",
      "155 0.2932595260239319\n",
      "156 0.2398001294673437\n",
      "157 0.18634073291075548\n",
      "158 0.13288133635416727\n",
      "159 0.07942193979757906\n",
      "160 0.025962543240990843\n",
      "161 -0.02749685331559737\n",
      "162 -0.08095624987218558\n",
      "163 0.17390311745878656\n",
      "164 0.12044372090219835\n",
      "165 0.3753030882331705\n",
      "166 0.3218436916765823\n",
      "167 0.26838429511999407\n",
      "168 0.5232436624509662\n",
      "169 0.469784265894378\n",
      "170 0.4163248693377898\n",
      "171 0.36286547278120157\n",
      "172 0.6177248401121738\n",
      "173 0.5642654435555856\n",
      "174 0.5108060469989975\n",
      "175 0.45734665044240924\n",
      "176 0.40388725388582103\n",
      "177 0.6587466212167932\n",
      "178 0.605287224660205\n",
      "179 0.5518278281036169\n",
      "180 0.49836843154702865\n",
      "181 0.44490903499044043\n",
      "182 0.3914496384338522\n",
      "183 0.337990241877264\n",
      "184 0.2845308453206758\n",
      "185 0.23107144876408758\n",
      "186 0.17761205220749937\n",
      "187 0.4324714195384715\n",
      "188 0.3790120229818833\n",
      "189 0.3255526264252951\n",
      "190 0.2720932298687069\n",
      "191 0.21863383331211866\n",
      "192 0.16517443675553045\n",
      "193 0.11171504019894224\n",
      "194 0.05825564364235403\n",
      "195 0.004796247085765815\n",
      "196 -0.0486631494708224\n",
      "197 -0.10212254602741061\n",
      "198 0.15273682130356153\n",
      "199 0.09927742474697332\n",
      "200 0.04581802819038511\n",
      "201 0.30067739552135725\n",
      "202 0.24721799896476904\n",
      "203 0.5020773662957412\n",
      "204 0.44861796973915297\n",
      "205 0.703477337070125\n",
      "206 0.9583367044010972\n",
      "207 0.9048773078445089\n",
      "208 0.8514179112879208\n",
      "209 0.7979585147313326\n",
      "210 0.7444991181747445\n",
      "211 0.6910397216181563\n",
      "212 0.6375803250615681\n",
      "213 0.8924396923925403\n",
      "214 0.838980295835952\n",
      "215 0.7855208992793639\n",
      "216 0.7320615027227757\n",
      "217 0.6786021061661875\n",
      "218 0.6251427096095994\n",
      "219 0.5716833130530112\n",
      "220 0.5182239164964231\n",
      "221 0.46476451993983486\n",
      "222 0.41130512338324665\n",
      "223 0.35784572682665844\n",
      "224 0.6127050941576306\n",
      "225 0.5592456976010425\n",
      "226 0.5057863010444543\n",
      "227 0.4523269044878661\n",
      "228 0.3988675079312779\n",
      "229 0.3454081113746897\n",
      "230 0.2919487148181015\n",
      "231 0.23848931826151326\n",
      "232 0.4933486855924854\n",
      "233 0.7482080529234576\n",
      "234 0.6947486563668694\n",
      "235 0.6412892598102813\n",
      "236 0.5878298632536931\n",
      "237 0.534370466697105\n",
      "238 0.48091107014051676\n",
      "239 0.7357704374714888\n",
      "240 0.6823110409149007\n",
      "241 0.9371704082458728\n",
      "242 0.8837110116892846\n",
      "243 0.8302516151326964\n",
      "244 0.7767922185761083\n",
      "245 0.7233328220195201\n",
      "246 0.9781921893504922\n",
      "247 0.924732792793904\n",
      "248 0.8712733962373158\n",
      "249 0.8178139996807277\n",
      "250 0.7643546031241395\n",
      "251 1.0192139704551115\n",
      "252 0.9657545738985234\n",
      "253 0.9122951773419352\n",
      "254 0.8588357807853471\n",
      "255 0.8053763842287589\n",
      "256 1.060235751559731\n",
      "257 1.0067763550031428\n",
      "258 0.9533169584465546\n",
      "259 0.8998575618899665\n",
      "260 0.8463981653333783\n",
      "261 0.7929387687767901\n",
      "262 0.739479372220202\n",
      "263 0.6860199756636138\n",
      "264 0.6325605791070257\n",
      "265 0.5791011825504375\n",
      "266 0.5256417859938494\n",
      "267 0.47218238943726115\n",
      "268 0.7270417567682332\n",
      "269 0.6735823602116451\n",
      "270 0.6201229636550569\n",
      "271 0.5666635670984688\n",
      "272 0.8215229344294409\n",
      "273 0.7680635378728526\n",
      "274 1.0229229052038247\n",
      "275 0.9694635086472365\n",
      "276 0.9160041120906484\n",
      "277 0.8625447155340602\n",
      "278 1.1174040828650322\n",
      "279 1.3722634501960043\n",
      "280 1.318804053639416\n",
      "281 1.265344657082828\n",
      "282 1.5202040244138\n",
      "283 1.775063391744772\n",
      "284 1.7216039951881839\n",
      "285 1.9764633625191559\n",
      "286 1.9230039659625677\n",
      "287 1.8695445694059796\n",
      "288 2.1244039367369516\n",
      "289 2.3792633040679236\n",
      "290 2.6341226713988957\n",
      "291 2.5806632748423075\n",
      "292 2.8355226421732795\n",
      "293 3.0903820095042516\n"
     ]
    }
   ],
   "source": [
    "import numpy as np\n",
    "p_ho=0.15206\n",
    "p_h1=0.1962\n",
    "i=0\n",
    "total_sum = 0\n",
    "while -1.6 < total_sum < 2.99:\n",
    "    if df_B.purchase_TF.iloc[i] == True:\n",
    "        log = np.log(p_h1/p_ho)\n",
    "    elif df_B.purchase_TF.iloc[i] == False:\n",
    "        log = np.log((1-p_h1)/(1-p_ho))\n",
    "    total_sum = total_sum + log\n",
    "    print(i, total_sum)\n",
    "    i = i+1"
   ]
  }
 ],
 "metadata": {
  "kernelspec": {
   "display_name": "local-venv",
   "language": "python",
   "name": "local-venv"
  },
  "language_info": {
   "codemirror_mode": {
    "name": "ipython",
    "version": 3
   },
   "file_extension": ".py",
   "mimetype": "text/x-python",
   "name": "python",
   "nbconvert_exporter": "python",
   "pygments_lexer": "ipython3",
   "version": "3.7.3"
  }
 },
 "nbformat": 4,
 "nbformat_minor": 2
}
